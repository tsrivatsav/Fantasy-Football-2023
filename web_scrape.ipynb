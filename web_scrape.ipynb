{
 "cells": [
  {
   "cell_type": "markdown",
   "metadata": {},
   "source": [
    "Firstly we scrape historical player data from pro-football-reference.com"
   ]
  },
  {
   "cell_type": "code",
   "execution_count": 1,
   "metadata": {},
   "outputs": [],
   "source": [
    "import timeit\n",
    "import time\n",
    "import pandas as pd\n",
    "from requests import get\n",
    "from bs4 import BeautifulSoup\n",
    "import string\n",
    "import re\n",
    "\n",
    "import warnings\n",
    "warnings.filterwarnings('ignore')"
   ]
  },
  {
   "cell_type": "code",
   "execution_count": 2,
   "metadata": {},
   "outputs": [],
   "source": [
    "headers = {'User-Agent': 'Mozilla/5.0 (X11; Linux x86_64) AppleWebKit/537.11 (KHTML, like Gecko) Chrome/23.0.1271.64 Safari/537.11',\n",
    "           'Accept': 'text/html,application/xhtml+xml,application/xml;q=0.9,*/*;q=0.8',\n",
    "           'Accept-Charset': 'ISO-8859-1,utf-8;q=0.7,*;q=0.3',\n",
    "           'Accept-Encoding': 'none',\n",
    "           'Accept-Language': 'en-US,en;q=0.8',\n",
    "           'Connection': 'keep-alive'}"
   ]
  },
  {
   "cell_type": "code",
   "execution_count": 3,
   "metadata": {},
   "outputs": [],
   "source": [
    "def player_name(soupy_object):\n",
    "    try:\n",
    "        pos = soupy_object.find('h1').text\n",
    "    except:\n",
    "        pos = None\n",
    "    return pos\n",
    "\n",
    "def player_position(soupy_object):\n",
    "    try:\n",
    "        pos = soupy_object.find('strong', text=re.compile('Position')).findParent().text[-5:-3]\n",
    "    except:\n",
    "        pos = None\n",
    "    return pos\n",
    "\n",
    "def player_height(soupy_object):\n",
    "    try:\n",
    "        height_parent = soupy_object.find('span', text=re.compile('lb')).parent()\n",
    "        height = height_parent[0].text\n",
    "    except:\n",
    "        height = None\n",
    "    return height\n",
    "\n",
    "def player_weight(soupy_object):\n",
    "    try:\n",
    "        weight_parent = soupy_object.find('span', text=re.compile('lb')).parent()\n",
    "        weight = weight_parent[1].text\n",
    "    except:\n",
    "        weight = None\n",
    "    return weight\n",
    "\n",
    "def player_season(soupy_object):\n",
    "    try:\n",
    "        season = []\n",
    "        seasons = soupy_object.find_all('tr', attrs = {'id':re.compile('rushing_and_receiving.')})\n",
    "        for szn in seasons:\n",
    "            season.append(szn['id'][-4:])\n",
    "    except:\n",
    "        season = None\n",
    "    return season\n",
    "\n",
    "\n"
   ]
  },
  {
   "cell_type": "code",
   "execution_count": 4,
   "metadata": {},
   "outputs": [],
   "source": [
    "# example cell to test all feature extraction functions\n",
    "url = f'https://www.pro-football-reference.com/players/M/MannPe00.htm'\n",
    "req = get(url, headers = headers)\n",
    "soup_get = BeautifulSoup(req.content, 'html.parser')\n"
   ]
  },
  {
   "cell_type": "code",
   "execution_count": 9,
   "metadata": {},
   "outputs": [
    {
     "name": "stdout",
     "output_type": "stream",
     "text": [
      "['1998', '1999', '2000', '2001', '2002', '2003', '2004', '2005', '2006', '2007', '2008', '2009', '2010', '2012', '2013', '2014', '2015', '1999', '2000', '2002', '2003', '2004', '2006', '2007', '2008', '2009', '2012', '2013', '2014', '2015']\n"
     ]
    }
   ],
   "source": [
    "# testing function definitions\n",
    "def player_season(soupy_object):\n",
    "    try:\n",
    "        season = []\n",
    "        seasons = soupy_object.find_all('tr', attrs = {'id':re.compile('rushing_and_receiving.')})\n",
    "        for szn in seasons:\n",
    "            season.append(szn['id'][-4:])\n",
    "    except:\n",
    "        season = None\n",
    "    return season\n",
    "\n",
    "print(player_season(soup_get))"
   ]
  },
  {
   "cell_type": "code",
   "execution_count": 30,
   "metadata": {},
   "outputs": [
    {
     "name": "stdout",
     "output_type": "stream",
     "text": [
      "/players/A/AbbrJa00.htm\n",
      "[]\n",
      "WR\n"
     ]
    },
    {
     "data": {
      "text/html": [
       "<div>\n",
       "<style scoped>\n",
       "    .dataframe tbody tr th:only-of-type {\n",
       "        vertical-align: middle;\n",
       "    }\n",
       "\n",
       "    .dataframe tbody tr th {\n",
       "        vertical-align: top;\n",
       "    }\n",
       "\n",
       "    .dataframe thead th {\n",
       "        text-align: right;\n",
       "    }\n",
       "</style>\n",
       "<table border=\"1\" class=\"dataframe\">\n",
       "  <thead>\n",
       "    <tr style=\"text-align: right;\">\n",
       "      <th></th>\n",
       "    </tr>\n",
       "  </thead>\n",
       "  <tbody>\n",
       "  </tbody>\n",
       "</table>\n",
       "</div>"
      ],
      "text/plain": [
       "Empty DataFrame\n",
       "Columns: []\n",
       "Index: []"
      ]
     },
     "execution_count": 30,
     "metadata": {},
     "output_type": "execute_result"
    }
   ],
   "source": [
    "data_list = []\n",
    "# rate limit needed because football reference blocks users that send more than 20 requests per minute\n",
    "rate_limit = 4\n",
    "def get_data():\n",
    "    for letter in string.ascii_uppercase:\n",
    "        timestart = timeit.default_timer()\n",
    "        url = f'https://www.pro-football-reference.com/players/{letter}'\n",
    "        req = get(url, headers = headers)\n",
    "        # print(req)\n",
    "        soup = BeautifulSoup(req.content, 'html.parser')\n",
    "        links = soup.find_all('a', href=re.compile(f'players/{letter}'))\n",
    "        # print(links)\n",
    "        relevant_links = []\n",
    "        for link in links:\n",
    "            info = link.findParent().text[-14:]\n",
    "            if info[0] != '(':\n",
    "                continue\n",
    "            elif info[1:3] not in ['QB', 'RB', 'WR', 'TE']:\n",
    "                continue\n",
    "            elif info[-9:-5] == info[-4:] or int(info[-9:-5]) < 1979:\n",
    "                continue\n",
    "            else:\n",
    "                relevant_links.append(link)\n",
    "        # print('----------')\n",
    "        # print(relevant_links)\n",
    "        for k, item in enumerate(relevant_links):\n",
    "            timestart_per_player = timeit.default_timer()\n",
    "            main_url = 'https://www.pro-football-reference.com'\n",
    "            sub_url = item.get('href')\n",
    "            print(sub_url)\n",
    "            data_url = main_url + sub_url\n",
    "            request = get(data_url, headers=headers)\n",
    "            soup_get = BeautifulSoup(request.content, 'html.parser')\n",
    "\n",
    "            # position = player_position(soup_get)\n",
    "            # season = player_season(soup_get)\n",
    "            break\n",
    "            \n",
    "            # name = player_name(soup_get)\n",
    "            # height = player_height(soup_get)\n",
    "            # weight = player_weight(soup_get)\n",
    "            \n",
    "            # age = player_age(soup_get)\n",
    "            # games_played = player_games_played(soup_get)\n",
    "            # games_started = player_games_started(soup_get)\n",
    "            # minutes_played = player_minutes_played(soup_get)\n",
    "            # fg = player_fg(soup_get)\n",
    "            # fga = player_fga(soup_get)\n",
    "            # threes = player_threes(soup_get)\n",
    "            # threes_attempted = player_threes_attempted(soup_get)\n",
    "            # ft = player_ft(soup_get)\n",
    "            # fta = player_fta(soup_get)\n",
    "            # orb = player_orb(soup_get)\n",
    "            # drb = player_drb(soup_get)\n",
    "            # assists = player_assists(soup_get)\n",
    "            # steals = player_steals(soup_get)\n",
    "            # blocks = player_blocks(soup_get)\n",
    "            # turnovers = player_turnovers(soup_get)\n",
    "\n",
    "            # for i in range(len(season)):\n",
    "            #     data = {'Name': name, 'Height': height, 'Weight': weight, 'Season': season[i], 'Age': age[i], 'Games_Played': games_played[i],\n",
    "            #             'Game_Started': games_started[i], 'Minutes_Played': minutes_played[i], 'Field_Goals': fg[i], 'Field_Goals_Attempted': fga[i],\n",
    "            #             'Threes_Made': threes[i], 'Threes_Attempted': threes_attempted[i], 'Free_Throws': ft[i], 'Free_Throws_Attempted': fta[i],\n",
    "            #             'Offensive_Rebounds': orb[i], 'Defensive_Rebounds': drb[i], 'Assists': assists[i], 'Steals': steals[i], 'Blocks': blocks[i],\n",
    "            #             'Turnovers': turnovers[i]}\n",
    "            #     data_list.append(data)\n",
    "            # # break\n",
    "            timestop_per_player = timeit.default_timer()\n",
    "            if ((timestop_per_player - timestart_per_player) < rate_limit):\n",
    "                time.sleep(rate_limit - timestop_per_player + timestart_per_player)\n",
    "        break\n",
    "        timestop = timeit.default_timer()\n",
    "        print(f'You scraped player names starting with: {letter}')\n",
    "        print('Time :', timestop - timestart)\n",
    "        \n",
    "    return data_list\n",
    "\n",
    "nfl_df = pd.DataFrame(get_data())\n",
    "nfl_df.head()"
   ]
  },
  {
   "cell_type": "code",
   "execution_count": null,
   "metadata": {},
   "outputs": [],
   "source": [
    "nfl_df.info()"
   ]
  },
  {
   "cell_type": "code",
   "execution_count": null,
   "metadata": {},
   "outputs": [],
   "source": [
    "nfl_df.to_csv('Datasets/nfl_player_data.csv', index_label = False)"
   ]
  }
 ],
 "metadata": {
  "kernelspec": {
   "display_name": "Python 3",
   "language": "python",
   "name": "python3"
  },
  "language_info": {
   "codemirror_mode": {
    "name": "ipython",
    "version": 3
   },
   "file_extension": ".py",
   "mimetype": "text/x-python",
   "name": "python",
   "nbconvert_exporter": "python",
   "pygments_lexer": "ipython3",
   "version": "3.9.1"
  },
  "orig_nbformat": 4
 },
 "nbformat": 4,
 "nbformat_minor": 2
}
